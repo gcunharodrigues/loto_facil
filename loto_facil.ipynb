{
 "cells": [
  {
   "cell_type": "code",
   "execution_count": null,
   "metadata": {},
   "outputs": [],
   "source": [
    "# Lotofácil is a brazilian lottery which you can choose from 15 to 20 \n",
    "# numbers of 25 available, and you earn a price if you hit 11, 12, 13, \n",
    "# 14 or 15 numbers. You can let the lottery system choose the numbers \n",
    "# randomly for you or play the same bet for 3, 6, 12, 18 or 24 \n",
    "# consecutive drafts.\n",
    "\n",
    "# The minimum bet is R$ 2,50 for 15 numbers.\n",
    "\n",
    "# The drafts "
   ]
  }
 ],
 "metadata": {
  "language_info": {
   "name": "python"
  },
  "orig_nbformat": 4
 },
 "nbformat": 4,
 "nbformat_minor": 2
}
